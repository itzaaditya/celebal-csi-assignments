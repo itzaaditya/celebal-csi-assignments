{
 "cells": [
  {
   "cell_type": "code",
   "execution_count": 1,
   "id": "79c60981-10f7-43fc-9dee-8db33cc730d0",
   "metadata": {},
   "outputs": [],
   "source": [
    "def lower_triangle(lines):\n",
    "    for i in range(1,lines+1):\n",
    "        print(\"*\"*i)"
   ]
  },
  {
   "cell_type": "code",
   "execution_count": 2,
   "id": "a16713ff-e312-4149-8674-d8c02e93465c",
   "metadata": {},
   "outputs": [],
   "source": [
    "def upper_triangle(lines):\n",
    "    for i in range(lines+1, 0, -1):\n",
    "        print('*' * i)"
   ]
  },
  {
   "cell_type": "code",
   "execution_count": 3,
   "id": "869089d9-2bb0-40bd-8efc-337ef1fb8d67",
   "metadata": {},
   "outputs": [],
   "source": [
    "def pyramid_triangle(lines):\n",
    "     for i in range(1, lines + 1):\n",
    "        spaces = ' ' * (lines - i)\n",
    "        stars = '*' * (2 * i - 1)\n",
    "        print(spaces + stars)"
   ]
  },
  {
   "cell_type": "code",
   "execution_count": 4,
   "id": "c1db0a85-59e3-4da9-a322-95268ca571c8",
   "metadata": {},
   "outputs": [
    {
     "name": "stdout",
     "output_type": "stream",
     "text": [
      "    *\n",
      "   ***\n",
      "  *****\n",
      " *******\n",
      "*********\n"
     ]
    }
   ],
   "source": [
    "pyramid_triangle(5)"
   ]
  },
  {
   "cell_type": "code",
   "execution_count": 5,
   "id": "27cc677b-1201-4b6f-93d2-8afe891a030b",
   "metadata": {},
   "outputs": [
    {
     "name": "stdout",
     "output_type": "stream",
     "text": [
      "*\n",
      "**\n",
      "***\n",
      "****\n",
      "*****\n"
     ]
    }
   ],
   "source": [
    "lower_triangle(5)"
   ]
  },
  {
   "cell_type": "code",
   "execution_count": 6,
   "id": "ea7a76cd-97a1-4a7a-b0d3-dc4b11c93da2",
   "metadata": {},
   "outputs": [
    {
     "name": "stdout",
     "output_type": "stream",
     "text": [
      "******\n",
      "*****\n",
      "****\n",
      "***\n",
      "**\n",
      "*\n"
     ]
    }
   ],
   "source": [
    "upper_triangle(5)"
   ]
  },
  {
   "cell_type": "code",
   "execution_count": null,
   "id": "f476ac80-00c5-4d48-9f41-271ab8ec2657",
   "metadata": {},
   "outputs": [],
   "source": []
  }
 ],
 "metadata": {
  "kernelspec": {
   "display_name": "Python 3 (ipykernel)",
   "language": "python",
   "name": "python3"
  },
  "language_info": {
   "codemirror_mode": {
    "name": "ipython",
    "version": 3
   },
   "file_extension": ".py",
   "mimetype": "text/x-python",
   "name": "python",
   "nbconvert_exporter": "python",
   "pygments_lexer": "ipython3",
   "version": "3.12.1"
  }
 },
 "nbformat": 4,
 "nbformat_minor": 5
}
