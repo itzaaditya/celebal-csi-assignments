{
 "cells": [
  {
   "cell_type": "code",
   "execution_count": 1,
   "id": "eecf805a-10d8-456b-8dc8-c14030d63906",
   "metadata": {},
   "outputs": [],
   "source": [
    "import pandas as pd\n",
    "import numpy as np\n",
    "from sklearn.datasets import load_breast_cancer\n",
    "from sklearn.model_selection import train_test_split, GridSearchCV, RandomizedSearchCV\n",
    "from sklearn.preprocessing import StandardScaler\n",
    "from sklearn.metrics import accuracy_score, precision_score, recall_score, f1_score, confusion_matrix\n",
    "from sklearn.linear_model import LogisticRegression\n",
    "from sklearn.ensemble import RandomForestClassifier\n",
    "from sklearn.svm import SVC\n",
    "from sklearn.neighbors import KNeighborsClassifier\n",
    "import warnings\n",
    "warnings.filterwarnings(\"ignore\")\n"
   ]
  },
  {
   "cell_type": "code",
   "execution_count": 2,
   "id": "6726f792-7a46-47ba-983e-f64274dda296",
   "metadata": {},
   "outputs": [],
   "source": [
    "# Load breast cancer dataset\n",
    "data = load_breast_cancer()\n",
    "X = pd.DataFrame(data.data, columns=data.feature_names)\n",
    "y = pd.Series(data.target)\n",
    "\n",
    "# Split and scale\n",
    "X_train, X_test, y_train, y_test = train_test_split(X, y, test_size=0.2, random_state=42)\n",
    "scaler = StandardScaler()\n",
    "X_train = scaler.fit_transform(X_train)\n",
    "X_test = scaler.transform(X_test)\n"
   ]
  },
  {
   "cell_type": "code",
   "execution_count": 3,
   "id": "d1bb1f7b-5d87-4625-b258-79cbc14627fe",
   "metadata": {},
   "outputs": [
    {
     "name": "stdout",
     "output_type": "stream",
     "text": [
      "\n",
      "--- Logistic Regression ---\n",
      "Accuracy: 0.9736842105263158\n",
      "Precision: 0.9722222222222222\n",
      "Recall: 0.9859154929577465\n",
      "F1 Score: 0.9790209790209791\n",
      "Confusion Matrix:\n",
      " [[41  2]\n",
      " [ 1 70]]\n",
      "\n",
      "--- Random Forest ---\n",
      "Accuracy: 0.9649122807017544\n",
      "Precision: 0.958904109589041\n",
      "Recall: 0.9859154929577465\n",
      "F1 Score: 0.9722222222222222\n",
      "Confusion Matrix:\n",
      " [[40  3]\n",
      " [ 1 70]]\n",
      "\n",
      "--- SVM ---\n",
      "Accuracy: 0.9824561403508771\n",
      "Precision: 0.9726027397260274\n",
      "Recall: 1.0\n",
      "F1 Score: 0.9861111111111112\n",
      "Confusion Matrix:\n",
      " [[41  2]\n",
      " [ 0 71]]\n",
      "\n",
      "--- KNN ---\n",
      "Accuracy: 0.9473684210526315\n",
      "Precision: 0.9577464788732394\n",
      "Recall: 0.9577464788732394\n",
      "F1 Score: 0.9577464788732394\n",
      "Confusion Matrix:\n",
      " [[40  3]\n",
      " [ 3 68]]\n"
     ]
    }
   ],
   "source": [
    "models = {\n",
    "    \"Logistic Regression\": LogisticRegression(),\n",
    "    \"Random Forest\": RandomForestClassifier(random_state=42),\n",
    "    \"SVM\": SVC(),\n",
    "    \"KNN\": KNeighborsClassifier()\n",
    "}\n",
    "\n",
    "def evaluate_model(name, model, X_test, y_test):\n",
    "    y_pred = model.predict(X_test)\n",
    "    print(f\"\\n--- {name} ---\")\n",
    "    print(\"Accuracy:\", accuracy_score(y_test, y_pred))\n",
    "    print(\"Precision:\", precision_score(y_test, y_pred))\n",
    "    print(\"Recall:\", recall_score(y_test, y_pred))\n",
    "    print(\"F1 Score:\", f1_score(y_test, y_pred))\n",
    "    print(\"Confusion Matrix:\\n\", confusion_matrix(y_test, y_pred))\n",
    "\n",
    "# Train and evaluate each\n",
    "for name, model in models.items():\n",
    "    model.fit(X_train, y_train)\n",
    "    evaluate_model(name, model, X_test, y_test)\n"
   ]
  },
  {
   "cell_type": "code",
   "execution_count": 4,
   "id": "6a9ecd6c-9ea9-4e88-8bb4-b467c19d2870",
   "metadata": {},
   "outputs": [
    {
     "name": "stdout",
     "output_type": "stream",
     "text": [
      "\n",
      "Best Random Forest Params: {'n_estimators': 50, 'min_samples_split': 5, 'max_features': 'log2', 'max_depth': None}\n",
      "\n",
      "--- Random Forest (Tuned) ---\n",
      "Accuracy: 0.9736842105263158\n",
      "Precision: 0.9722222222222222\n",
      "Recall: 0.9859154929577465\n",
      "F1 Score: 0.9790209790209791\n",
      "Confusion Matrix:\n",
      " [[41  2]\n",
      " [ 1 70]]\n"
     ]
    }
   ],
   "source": [
    "param_dist = {\n",
    "    'n_estimators': [50, 100, 200],\n",
    "    'max_depth': [None, 10, 20, 30],\n",
    "    'min_samples_split': [2, 5, 10],\n",
    "    'max_features': ['sqrt', 'log2']\n",
    "}\n",
    "\n",
    "random_search = RandomizedSearchCV(RandomForestClassifier(random_state=42),\n",
    "                                   param_distributions=param_dist,\n",
    "                                   n_iter=10, cv=5,\n",
    "                                   scoring='f1',\n",
    "                                   n_jobs=-1, random_state=42)\n",
    "random_search.fit(X_train, y_train)\n",
    "\n",
    "print(\"\\nBest Random Forest Params:\", random_search.best_params_)\n",
    "evaluate_model(\"Random Forest (Tuned)\", random_search.best_estimator_, X_test, y_test)\n"
   ]
  },
  {
   "cell_type": "code",
   "execution_count": 5,
   "id": "b8f034ee-bbd5-40a7-bccc-5a31ce120cc3",
   "metadata": {},
   "outputs": [
    {
     "name": "stdout",
     "output_type": "stream",
     "text": [
      "\n",
      "Best SVM Params: {'C': 1, 'gamma': 'scale', 'kernel': 'rbf'}\n",
      "\n",
      "--- SVM (Tuned) ---\n",
      "Accuracy: 0.9824561403508771\n",
      "Precision: 0.9726027397260274\n",
      "Recall: 1.0\n",
      "F1 Score: 0.9861111111111112\n",
      "Confusion Matrix:\n",
      " [[41  2]\n",
      " [ 0 71]]\n"
     ]
    }
   ],
   "source": [
    "param_grid = {\n",
    "    'C': [0.1, 1, 10],\n",
    "    'kernel': ['linear', 'rbf'],\n",
    "    'gamma': ['scale', 'auto']\n",
    "}\n",
    "\n",
    "grid_search = GridSearchCV(SVC(), param_grid=param_grid, cv=5, scoring='f1', n_jobs=-1)\n",
    "grid_search.fit(X_train, y_train)\n",
    "\n",
    "print(\"\\nBest SVM Params:\", grid_search.best_params_)\n",
    "evaluate_model(\"SVM (Tuned)\", grid_search.best_estimator_, X_test, y_test)\n"
   ]
  },
  {
   "cell_type": "code",
   "execution_count": null,
   "id": "0a0f3e09-7f0d-4eb6-af0e-ef7bea765e41",
   "metadata": {},
   "outputs": [],
   "source": [
    "print(\"\\n\\n==== Final Model Comparison ====\")\n",
    "final_models = {\n",
    "    \"Logistic Regression\": models['Logistic Regression'],\n",
    "    \"Random Forest (Tuned)\": random_search.best_estimator_,\n",
    "    \"SVM (Tuned)\": grid_search.best_estimator_,\n",
    "    \"KNN\": models['KNN']\n",
    "}\n",
    "\n",
    "for name, model in final_models.items():\n",
    "    evaluate_model(name, model, X_test, y_test)\n"
   ]
  },
  {
   "cell_type": "code",
   "execution_count": null,
   "id": "84fe4cbd-7221-4f43-bc91-588955888058",
   "metadata": {},
   "outputs": [],
   "source": []
  }
 ],
 "metadata": {
  "kernelspec": {
   "display_name": "Python 3 (ipykernel)",
   "language": "python",
   "name": "python3"
  },
  "language_info": {
   "codemirror_mode": {
    "name": "ipython",
    "version": 3
   },
   "file_extension": ".py",
   "mimetype": "text/x-python",
   "name": "python",
   "nbconvert_exporter": "python",
   "pygments_lexer": "ipython3",
   "version": "3.12.1"
  }
 },
 "nbformat": 4,
 "nbformat_minor": 5
}
